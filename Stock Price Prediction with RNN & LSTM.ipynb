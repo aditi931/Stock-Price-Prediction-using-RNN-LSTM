{
 "cells": [
  {
   "cell_type": "code",
   "execution_count": 1,
   "id": "dff8689e",
   "metadata": {},
   "outputs": [
    {
     "name": "stdout",
     "output_type": "stream",
     "text": [
      "WARNING:tensorflow:From C:\\Users\\Aditi Sharma\\anaconda3\\Lib\\site-packages\\keras\\src\\losses.py:2976: The name tf.losses.sparse_softmax_cross_entropy is deprecated. Please use tf.compat.v1.losses.sparse_softmax_cross_entropy instead.\n",
      "\n"
     ]
    }
   ],
   "source": [
    "import tensorflow as tf"
   ]
  },
  {
   "cell_type": "code",
   "execution_count": null,
   "id": "d9c27edd-4315-431f-81a1-8225633f52f9",
   "metadata": {},
   "outputs": [],
   "source": []
  },
  {
   "cell_type": "code",
   "execution_count": 2,
   "id": "20ff9861",
   "metadata": {},
   "outputs": [],
   "source": [
    "#importing all the libraries\n",
    "\n",
    "import numpy as np\n",
    "import pandas as pd\n",
    "import matplotlib.pyplot as plt\n"
   ]
  },
  {
   "cell_type": "markdown",
   "id": "ac3b1b3b",
   "metadata": {},
   "source": [
    "# step2 Data Preprocessing\n"
   ]
  },
  {
   "cell_type": "code",
   "execution_count": 3,
   "id": "370d0ffa",
   "metadata": {},
   "outputs": [],
   "source": [
    "training_data = pd.read_csv(\"train_final.csv\")"
   ]
  },
  {
   "cell_type": "code",
   "execution_count": 4,
   "id": "7391f5ba",
   "metadata": {},
   "outputs": [
    {
     "name": "stdout",
     "output_type": "stream",
     "text": [
      "<class 'pandas.core.frame.DataFrame'>\n",
      "RangeIndex: 1194 entries, 0 to 1193\n",
      "Data columns (total 7 columns):\n",
      " #   Column     Non-Null Count  Dtype  \n",
      "---  ------     --------------  -----  \n",
      " 0   Date       1194 non-null   object \n",
      " 1   Open       1194 non-null   float64\n",
      " 2   High       1194 non-null   float64\n",
      " 3   Low        1194 non-null   float64\n",
      " 4   Close      1194 non-null   float64\n",
      " 5   Adj Close  1194 non-null   float64\n",
      " 6   Volume     1194 non-null   int64  \n",
      "dtypes: float64(5), int64(1), object(1)\n",
      "memory usage: 65.4+ KB\n"
     ]
    }
   ],
   "source": [
    "training_data.info()"
   ]
  },
  {
   "cell_type": "code",
   "execution_count": 5,
   "id": "f0580ad0",
   "metadata": {},
   "outputs": [],
   "source": [
    "training_set = training_data.iloc[:, 1:2].values"
   ]
  },
  {
   "cell_type": "code",
   "execution_count": 6,
   "id": "57e93fbd",
   "metadata": {},
   "outputs": [
    {
     "data": {
      "text/plain": [
       "((1194, 1), (1194, 7))"
      ]
     },
     "execution_count": 6,
     "metadata": {},
     "output_type": "execute_result"
    }
   ],
   "source": [
    "training_set.shape, training_data.shape"
   ]
  },
  {
   "cell_type": "code",
   "execution_count": 7,
   "id": "290c6a3b",
   "metadata": {},
   "outputs": [],
   "source": [
    "#scaling\n",
    "\n",
    "from sklearn.preprocessing import MinMaxScaler\n",
    "sc = MinMaxScaler(feature_range=(0,1))\n",
    "training_set_scaled = sc.fit_transform(training_set)"
   ]
  },
  {
   "cell_type": "code",
   "execution_count": 8,
   "id": "20572e31",
   "metadata": {},
   "outputs": [
    {
     "data": {
      "text/plain": [
       "array([[0.04111573],\n",
       "       [0.05219191],\n",
       "       [0.05373124],\n",
       "       ...,\n",
       "       [0.86037201],\n",
       "       [0.8720048 ],\n",
       "       [0.87641709]])"
      ]
     },
     "execution_count": 8,
     "metadata": {},
     "output_type": "execute_result"
    }
   ],
   "source": [
    "training_set_scaled"
   ]
  },
  {
   "cell_type": "code",
   "execution_count": 9,
   "id": "f0f95dcd",
   "metadata": {},
   "outputs": [
    {
     "data": {
      "text/html": [
       "<div>\n",
       "<style scoped>\n",
       "    .dataframe tbody tr th:only-of-type {\n",
       "        vertical-align: middle;\n",
       "    }\n",
       "\n",
       "    .dataframe tbody tr th {\n",
       "        vertical-align: top;\n",
       "    }\n",
       "\n",
       "    .dataframe thead th {\n",
       "        text-align: right;\n",
       "    }\n",
       "</style>\n",
       "<table border=\"1\" class=\"dataframe\">\n",
       "  <thead>\n",
       "    <tr style=\"text-align: right;\">\n",
       "      <th></th>\n",
       "      <th>Date</th>\n",
       "      <th>Open</th>\n",
       "      <th>High</th>\n",
       "      <th>Low</th>\n",
       "      <th>Close</th>\n",
       "      <th>Adj Close</th>\n",
       "      <th>Volume</th>\n",
       "    </tr>\n",
       "  </thead>\n",
       "  <tbody>\n",
       "    <tr>\n",
       "      <th>0</th>\n",
       "      <td>2019-03-01</td>\n",
       "      <td>56.244999</td>\n",
       "      <td>57.148499</td>\n",
       "      <td>56.237499</td>\n",
       "      <td>57.049500</td>\n",
       "      <td>57.049500</td>\n",
       "      <td>29006000</td>\n",
       "    </tr>\n",
       "    <tr>\n",
       "      <th>1</th>\n",
       "      <td>2019-03-04</td>\n",
       "      <td>57.349499</td>\n",
       "      <td>57.914001</td>\n",
       "      <td>56.534500</td>\n",
       "      <td>57.389999</td>\n",
       "      <td>57.389999</td>\n",
       "      <td>28920000</td>\n",
       "    </tr>\n",
       "    <tr>\n",
       "      <th>2</th>\n",
       "      <td>2019-03-05</td>\n",
       "      <td>57.502998</td>\n",
       "      <td>58.480499</td>\n",
       "      <td>57.309750</td>\n",
       "      <td>58.101501</td>\n",
       "      <td>58.101501</td>\n",
       "      <td>28864000</td>\n",
       "    </tr>\n",
       "    <tr>\n",
       "      <th>3</th>\n",
       "      <td>2019-03-06</td>\n",
       "      <td>58.124500</td>\n",
       "      <td>58.378300</td>\n",
       "      <td>57.774502</td>\n",
       "      <td>57.893002</td>\n",
       "      <td>57.893002</td>\n",
       "      <td>21986000</td>\n",
       "    </tr>\n",
       "    <tr>\n",
       "      <th>4</th>\n",
       "      <td>2019-03-07</td>\n",
       "      <td>57.785999</td>\n",
       "      <td>57.837749</td>\n",
       "      <td>56.745499</td>\n",
       "      <td>57.165001</td>\n",
       "      <td>57.165001</td>\n",
       "      <td>23332000</td>\n",
       "    </tr>\n",
       "  </tbody>\n",
       "</table>\n",
       "</div>"
      ],
      "text/plain": [
       "         Date       Open       High        Low      Close  Adj Close    Volume\n",
       "0  2019-03-01  56.244999  57.148499  56.237499  57.049500  57.049500  29006000\n",
       "1  2019-03-04  57.349499  57.914001  56.534500  57.389999  57.389999  28920000\n",
       "2  2019-03-05  57.502998  58.480499  57.309750  58.101501  58.101501  28864000\n",
       "3  2019-03-06  58.124500  58.378300  57.774502  57.893002  57.893002  21986000\n",
       "4  2019-03-07  57.785999  57.837749  56.745499  57.165001  57.165001  23332000"
      ]
     },
     "execution_count": 9,
     "metadata": {},
     "output_type": "execute_result"
    }
   ],
   "source": [
    "training_data.head()"
   ]
  },
  {
   "cell_type": "code",
   "execution_count": 11,
   "id": "5ef2ebf1",
   "metadata": {},
   "outputs": [],
   "source": [
    "# 60 timesteps and 1 output\n",
    "X_train = []\n",
    "y_train = []\n",
    "\n",
    "\n",
    "for i in range(60, 1194):\n",
    "    X_train.append(training_set_scaled[i-60:i , 0])\n",
    "    y_train.append(training_set_scaled[i,0])\n",
    "\n",
    "X_train, y_train = np.array(X_train), np.array(y_train)"
   ]
  },
  {
   "cell_type": "code",
   "execution_count": 12,
   "id": "cced10ae",
   "metadata": {},
   "outputs": [
    {
     "data": {
      "text/plain": [
       "(1134, 60, 1)"
      ]
     },
     "execution_count": 12,
     "metadata": {},
     "output_type": "execute_result"
    }
   ],
   "source": [
    "X_train = np.reshape(X_train, (X_train.shape[0], X_train.shape[1], 1))\n",
    "X_train.shape"
   ]
  },
  {
   "cell_type": "code",
   "execution_count": 13,
   "id": "37b41bc4",
   "metadata": {},
   "outputs": [],
   "source": [
    "from keras.models import Sequential\n",
    "from keras.layers import LSTM\n",
    "from keras.layers import Dense \n",
    "from keras.layers import Dropout"
   ]
  },
  {
   "cell_type": "code",
   "execution_count": 14,
   "id": "8cfc1154",
   "metadata": {},
   "outputs": [
    {
     "name": "stdout",
     "output_type": "stream",
     "text": [
      "WARNING:tensorflow:From C:\\Users\\Aditi Sharma\\anaconda3\\Lib\\site-packages\\keras\\src\\backend.py:873: The name tf.get_default_graph is deprecated. Please use tf.compat.v1.get_default_graph instead.\n",
      "\n"
     ]
    }
   ],
   "source": [
    "regressor = Sequential()\n",
    "regressor.add(LSTM(units = 50, return_sequences= True, input_shape = (X_train.shape[1], 1)))\n",
    "regressor.add(Dropout(0.2))\n",
    "\n",
    "regressor.add(LSTM(units =50, return_sequences = True))\n",
    "regressor.add(Dropout(0.2))\n",
    "\n",
    "\n",
    "regressor.add(LSTM(units =50, return_sequences = True))\n",
    "regressor.add(Dropout(0.2))\n",
    "\n",
    "\n",
    "regressor.add(LSTM(units =50))\n",
    "regressor.add(Dropout(0.2))\n",
    "\n",
    "regressor.add(Dense(units=1))\n"
   ]
  },
  {
   "cell_type": "code",
   "execution_count": 15,
   "id": "04e3abf2",
   "metadata": {},
   "outputs": [
    {
     "name": "stdout",
     "output_type": "stream",
     "text": [
      "WARNING:tensorflow:From C:\\Users\\Aditi Sharma\\anaconda3\\Lib\\site-packages\\keras\\src\\optimizers\\__init__.py:309: The name tf.train.Optimizer is deprecated. Please use tf.compat.v1.train.Optimizer instead.\n",
      "\n",
      "Epoch 1/100\n",
      "WARNING:tensorflow:From C:\\Users\\Aditi Sharma\\anaconda3\\Lib\\site-packages\\keras\\src\\utils\\tf_utils.py:492: The name tf.ragged.RaggedTensorValue is deprecated. Please use tf.compat.v1.ragged.RaggedTensorValue instead.\n",
      "\n",
      "36/36 [==============================] - 17s 110ms/step - loss: 0.0326\n",
      "Epoch 2/100\n",
      "36/36 [==============================] - 4s 107ms/step - loss: 0.0076\n",
      "Epoch 3/100\n",
      "36/36 [==============================] - 4s 103ms/step - loss: 0.0071\n",
      "Epoch 4/100\n",
      "36/36 [==============================] - 3s 97ms/step - loss: 0.0063\n",
      "Epoch 5/100\n",
      "36/36 [==============================] - 4s 99ms/step - loss: 0.0059\n",
      "Epoch 6/100\n",
      "36/36 [==============================] - 4s 100ms/step - loss: 0.0067\n",
      "Epoch 7/100\n",
      "36/36 [==============================] - 4s 103ms/step - loss: 0.0060\n",
      "Epoch 8/100\n",
      "36/36 [==============================] - 4s 101ms/step - loss: 0.0059\n",
      "Epoch 9/100\n",
      "36/36 [==============================] - 4s 98ms/step - loss: 0.0054\n",
      "Epoch 10/100\n",
      "36/36 [==============================] - 3s 98ms/step - loss: 0.0057\n",
      "Epoch 11/100\n",
      "36/36 [==============================] - 3s 96ms/step - loss: 0.0061\n",
      "Epoch 12/100\n",
      "36/36 [==============================] - 4s 107ms/step - loss: 0.0054\n",
      "Epoch 13/100\n",
      "36/36 [==============================] - 4s 101ms/step - loss: 0.0053\n",
      "Epoch 14/100\n",
      "36/36 [==============================] - 3s 95ms/step - loss: 0.0049\n",
      "Epoch 15/100\n",
      "36/36 [==============================] - 4s 105ms/step - loss: 0.0048\n",
      "Epoch 16/100\n",
      "36/36 [==============================] - 4s 106ms/step - loss: 0.0055\n",
      "Epoch 17/100\n",
      "36/36 [==============================] - 4s 103ms/step - loss: 0.0052\n",
      "Epoch 18/100\n",
      "36/36 [==============================] - 4s 104ms/step - loss: 0.0046\n",
      "Epoch 19/100\n",
      "36/36 [==============================] - 4s 98ms/step - loss: 0.0046\n",
      "Epoch 20/100\n",
      "36/36 [==============================] - 3s 95ms/step - loss: 0.0047\n",
      "Epoch 21/100\n",
      "36/36 [==============================] - 3s 96ms/step - loss: 0.0047\n",
      "Epoch 22/100\n",
      "36/36 [==============================] - 4s 105ms/step - loss: 0.0042\n",
      "Epoch 23/100\n",
      "36/36 [==============================] - 4s 120ms/step - loss: 0.0040\n",
      "Epoch 24/100\n",
      "36/36 [==============================] - 4s 101ms/step - loss: 0.0039\n",
      "Epoch 25/100\n",
      "36/36 [==============================] - 3s 94ms/step - loss: 0.0040\n",
      "Epoch 26/100\n",
      "36/36 [==============================] - 4s 125ms/step - loss: 0.0037\n",
      "Epoch 27/100\n",
      "36/36 [==============================] - 4s 120ms/step - loss: 0.0037\n",
      "Epoch 28/100\n",
      "36/36 [==============================] - 3s 94ms/step - loss: 0.0034\n",
      "Epoch 29/100\n",
      "36/36 [==============================] - 4s 110ms/step - loss: 0.0035\n",
      "Epoch 30/100\n",
      "36/36 [==============================] - 4s 111ms/step - loss: 0.0036\n",
      "Epoch 31/100\n",
      "36/36 [==============================] - 4s 106ms/step - loss: 0.0032\n",
      "Epoch 32/100\n",
      "36/36 [==============================] - 4s 103ms/step - loss: 0.0031\n",
      "Epoch 33/100\n",
      "36/36 [==============================] - 4s 107ms/step - loss: 0.0035\n",
      "Epoch 34/100\n",
      "36/36 [==============================] - 4s 110ms/step - loss: 0.0030\n",
      "Epoch 35/100\n",
      "36/36 [==============================] - 4s 109ms/step - loss: 0.0038\n",
      "Epoch 36/100\n",
      "36/36 [==============================] - 4s 100ms/step - loss: 0.0032\n",
      "Epoch 37/100\n",
      "36/36 [==============================] - 4s 107ms/step - loss: 0.0033\n",
      "Epoch 38/100\n",
      "36/36 [==============================] - 4s 117ms/step - loss: 0.0030\n",
      "Epoch 39/100\n",
      "36/36 [==============================] - 4s 101ms/step - loss: 0.0030\n",
      "Epoch 40/100\n",
      "36/36 [==============================] - 4s 101ms/step - loss: 0.0031\n",
      "Epoch 41/100\n",
      "36/36 [==============================] - 4s 107ms/step - loss: 0.0027\n",
      "Epoch 42/100\n",
      "36/36 [==============================] - 4s 116ms/step - loss: 0.0034\n",
      "Epoch 43/100\n",
      "36/36 [==============================] - 4s 106ms/step - loss: 0.0034\n",
      "Epoch 44/100\n",
      "36/36 [==============================] - 4s 102ms/step - loss: 0.0034\n",
      "Epoch 45/100\n",
      "36/36 [==============================] - 4s 107ms/step - loss: 0.0030\n",
      "Epoch 46/100\n",
      "36/36 [==============================] - 4s 112ms/step - loss: 0.0031\n",
      "Epoch 47/100\n",
      "36/36 [==============================] - 4s 106ms/step - loss: 0.0027\n",
      "Epoch 48/100\n",
      "36/36 [==============================] - 3s 96ms/step - loss: 0.0026\n",
      "Epoch 49/100\n",
      "36/36 [==============================] - 5s 130ms/step - loss: 0.0027\n",
      "Epoch 50/100\n",
      "36/36 [==============================] - 4s 113ms/step - loss: 0.0023\n",
      "Epoch 51/100\n",
      "36/36 [==============================] - 5s 126ms/step - loss: 0.0027\n",
      "Epoch 52/100\n",
      "36/36 [==============================] - 4s 115ms/step - loss: 0.0029\n",
      "Epoch 53/100\n",
      "36/36 [==============================] - 4s 105ms/step - loss: 0.0027\n",
      "Epoch 54/100\n",
      "36/36 [==============================] - 4s 104ms/step - loss: 0.0024\n",
      "Epoch 55/100\n",
      "36/36 [==============================] - 5s 129ms/step - loss: 0.0028\n",
      "Epoch 56/100\n",
      "36/36 [==============================] - 4s 113ms/step - loss: 0.0025\n",
      "Epoch 57/100\n",
      "36/36 [==============================] - 4s 120ms/step - loss: 0.0028\n",
      "Epoch 58/100\n",
      "36/36 [==============================] - 4s 122ms/step - loss: 0.0027\n",
      "Epoch 59/100\n",
      "36/36 [==============================] - 4s 106ms/step - loss: 0.0025\n",
      "Epoch 60/100\n",
      "36/36 [==============================] - 5s 126ms/step - loss: 0.0024\n",
      "Epoch 61/100\n",
      "36/36 [==============================] - 4s 102ms/step - loss: 0.0024\n",
      "Epoch 62/100\n",
      "36/36 [==============================] - 4s 99ms/step - loss: 0.0024\n",
      "Epoch 63/100\n",
      "36/36 [==============================] - 4s 114ms/step - loss: 0.0024\n",
      "Epoch 64/100\n",
      "36/36 [==============================] - 4s 104ms/step - loss: 0.0022\n",
      "Epoch 65/100\n",
      "36/36 [==============================] - 4s 105ms/step - loss: 0.0022\n",
      "Epoch 66/100\n",
      "36/36 [==============================] - 4s 107ms/step - loss: 0.0023\n",
      "Epoch 67/100\n",
      "36/36 [==============================] - 5s 128ms/step - loss: 0.0024\n",
      "Epoch 68/100\n",
      "36/36 [==============================] - 4s 103ms/step - loss: 0.0022\n",
      "Epoch 69/100\n",
      "36/36 [==============================] - 4s 100ms/step - loss: 0.0021\n",
      "Epoch 70/100\n",
      "36/36 [==============================] - 4s 104ms/step - loss: 0.0021\n",
      "Epoch 71/100\n",
      "36/36 [==============================] - 4s 108ms/step - loss: 0.0024\n",
      "Epoch 72/100\n",
      "36/36 [==============================] - 4s 109ms/step - loss: 0.0020\n",
      "Epoch 73/100\n",
      "36/36 [==============================] - 3s 97ms/step - loss: 0.0023\n",
      "Epoch 74/100\n",
      "36/36 [==============================] - 4s 99ms/step - loss: 0.0019\n",
      "Epoch 75/100\n",
      "36/36 [==============================] - 4s 103ms/step - loss: 0.0022\n",
      "Epoch 76/100\n",
      "36/36 [==============================] - 4s 104ms/step - loss: 0.0024\n",
      "Epoch 77/100\n",
      "36/36 [==============================] - 4s 103ms/step - loss: 0.0023\n",
      "Epoch 78/100\n",
      "36/36 [==============================] - 3s 95ms/step - loss: 0.0021\n",
      "Epoch 79/100\n",
      "36/36 [==============================] - 3s 97ms/step - loss: 0.0021\n",
      "Epoch 80/100\n",
      "36/36 [==============================] - 3s 98ms/step - loss: 0.0025\n",
      "Epoch 81/100\n",
      "36/36 [==============================] - 3s 97ms/step - loss: 0.0020\n",
      "Epoch 82/100\n",
      "36/36 [==============================] - 4s 107ms/step - loss: 0.0021\n",
      "Epoch 83/100\n",
      "36/36 [==============================] - 4s 102ms/step - loss: 0.0018\n",
      "Epoch 84/100\n",
      "36/36 [==============================] - 4s 98ms/step - loss: 0.0019\n",
      "Epoch 85/100\n",
      "36/36 [==============================] - 3s 96ms/step - loss: 0.0020\n",
      "Epoch 86/100\n",
      "36/36 [==============================] - 4s 98ms/step - loss: 0.0019\n",
      "Epoch 87/100\n",
      "36/36 [==============================] - 3s 95ms/step - loss: 0.0018\n",
      "Epoch 88/100\n",
      "36/36 [==============================] - 4s 112ms/step - loss: 0.0021\n",
      "Epoch 89/100\n",
      "36/36 [==============================] - 4s 102ms/step - loss: 0.0019\n",
      "Epoch 90/100\n",
      "36/36 [==============================] - 3s 95ms/step - loss: 0.0020\n",
      "Epoch 91/100\n",
      "36/36 [==============================] - 3s 97ms/step - loss: 0.0019\n",
      "Epoch 92/100\n",
      "36/36 [==============================] - 3s 96ms/step - loss: 0.0019\n",
      "Epoch 93/100\n",
      "36/36 [==============================] - 4s 104ms/step - loss: 0.0016\n",
      "Epoch 94/100\n",
      "36/36 [==============================] - 4s 109ms/step - loss: 0.0019\n",
      "Epoch 95/100\n"
     ]
    },
    {
     "name": "stdout",
     "output_type": "stream",
     "text": [
      "36/36 [==============================] - 4s 98ms/step - loss: 0.0019\n",
      "Epoch 96/100\n",
      "36/36 [==============================] - 4s 98ms/step - loss: 0.0016\n",
      "Epoch 97/100\n",
      "36/36 [==============================] - 3s 97ms/step - loss: 0.0018\n",
      "Epoch 98/100\n",
      "36/36 [==============================] - 3s 97ms/step - loss: 0.0018\n",
      "Epoch 99/100\n",
      "36/36 [==============================] - 4s 105ms/step - loss: 0.0017\n",
      "Epoch 100/100\n",
      "36/36 [==============================] - 4s 100ms/step - loss: 0.0016\n"
     ]
    },
    {
     "data": {
      "text/plain": [
       "<keras.src.callbacks.History at 0x24f1fa14b10>"
      ]
     },
     "execution_count": 15,
     "metadata": {},
     "output_type": "execute_result"
    }
   ],
   "source": [
    "regressor.compile(optimizer='adam', loss='mean_squared_error')\n",
    "regressor.fit(X_train, y_train, epochs=100, batch_size=32)"
   ]
  },
  {
   "cell_type": "code",
   "execution_count": 16,
   "id": "0628fc6b",
   "metadata": {},
   "outputs": [],
   "source": [
    "dataset_test =pd.read_csv(\"test.csv\")\n",
    "actual_stock_price = dataset_test.iloc[:,1:2].values"
   ]
  },
  {
   "cell_type": "code",
   "execution_count": 17,
   "id": "6b29489a",
   "metadata": {},
   "outputs": [
    {
     "ename": "AttributeError",
     "evalue": "'numpy.float64' object has no attribute 'values'",
     "output_type": "error",
     "traceback": [
      "\u001b[1;31m---------------------------------------------------------------------------\u001b[0m",
      "\u001b[1;31mAttributeError\u001b[0m                            Traceback (most recent call last)",
      "Cell \u001b[1;32mIn[17], line 2\u001b[0m\n\u001b[0;32m      1\u001b[0m dataset_total \u001b[38;5;241m=\u001b[39m pd\u001b[38;5;241m.\u001b[39mconcat((training_data[\u001b[38;5;124m'\u001b[39m\u001b[38;5;124mOpen\u001b[39m\u001b[38;5;124m'\u001b[39m], dataset_test[\u001b[38;5;124m'\u001b[39m\u001b[38;5;124mOpen\u001b[39m\u001b[38;5;124m'\u001b[39m]), axis \u001b[38;5;241m=\u001b[39m\u001b[38;5;241m0\u001b[39m)\n\u001b[1;32m----> 2\u001b[0m inputs \u001b[38;5;241m=\u001b[39m dataset_total[\u001b[38;5;28mlen\u001b[39m(dataset_total) \u001b[38;5;241m-\u001b[39m \u001b[38;5;28mlen\u001b[39m(dataset_test)\u001b[38;5;241m-\u001b[39m\u001b[38;5;241m60\u001b[39m]\u001b[38;5;241m.\u001b[39mvalues\n\u001b[0;32m      4\u001b[0m inputs\u001b[38;5;241m=\u001b[39m inputs\u001b[38;5;241m.\u001b[39mreshape(\u001b[38;5;241m-\u001b[39m\u001b[38;5;241m1\u001b[39m, \u001b[38;5;241m1\u001b[39m)\n\u001b[0;32m      5\u001b[0m inputs \u001b[38;5;241m=\u001b[39m scaler\u001b[38;5;241m.\u001b[39mtransform(inputs)\n",
      "\u001b[1;31mAttributeError\u001b[0m: 'numpy.float64' object has no attribute 'values'"
     ]
    }
   ],
   "source": [
    "dataset_total = pd.concat((training_data['Open'], dataset_test['Open']), axis =0)\n",
    "inputs = dataset_total[len(dataset_total) - len(dataset_test)-60].values\n",
    "\n",
    "inputs= inputs.reshape(-1, 1)\n",
    "inputs = scaler.transform(inputs)\n",
    "\n",
    "X_test = []\n",
    "for i in range(60, 80):\n",
    "    X_test.append(inputs[i-60:i, 0])\n",
    "\n",
    "X_test = np.array(X_test)\n",
    "X_test = np.reshape(X_test, (X_test.shape[0], X_test.shape[1], 1))"
   ]
  },
  {
   "cell_type": "code",
   "execution_count": 2,
   "id": "af5c25db",
   "metadata": {},
   "outputs": [
    {
     "ename": "SyntaxError",
     "evalue": "invalid syntax (Temp/ipykernel_16552/1551983643.py, line 2)",
     "output_type": "error",
     "traceback": [
      "\u001b[1;36m  File \u001b[1;32m\"C:\\Users\\ADITIS~1\\AppData\\Local\\Temp/ipykernel_16552/1551983643.py\"\u001b[1;36m, line \u001b[1;32m2\u001b[0m\n\u001b[1;33m    predicted_stock_price =s caler.inverse_transform(predicted_stock_price)\u001b[0m\n\u001b[1;37m                             ^\u001b[0m\n\u001b[1;31mSyntaxError\u001b[0m\u001b[1;31m:\u001b[0m invalid syntax\n"
     ]
    }
   ],
   "source": [
    "predicted_stock_price = regressor.predict(X_test)\n",
    "predicted_stock_price =scaler.inverse_transform(predicted_stock_price)"
   ]
  },
  {
   "cell_type": "code",
   "execution_count": 4,
   "id": "be19d5ff",
   "metadata": {},
   "outputs": [
    {
     "ename": "ModuleNotFoundError",
     "evalue": "No module named 'google.colab'",
     "output_type": "error",
     "traceback": [
      "\u001b[1;31m---------------------------------------------------------------------------\u001b[0m",
      "\u001b[1;31mModuleNotFoundError\u001b[0m                       Traceback (most recent call last)",
      "\u001b[1;32mC:\\Users\\ADITIS~1\\AppData\\Local\\Temp/ipykernel_16552/2658820218.py\u001b[0m in \u001b[0;36m<module>\u001b[1;34m\u001b[0m\n\u001b[1;32m----> 1\u001b[1;33m \u001b[1;32mfrom\u001b[0m \u001b[0mgoogle\u001b[0m\u001b[1;33m.\u001b[0m\u001b[0mcolab\u001b[0m \u001b[1;32mimport\u001b[0m \u001b[0mfiles\u001b[0m\u001b[1;33m\u001b[0m\u001b[1;33m\u001b[0m\u001b[0m\n\u001b[0m",
      "\u001b[1;31mModuleNotFoundError\u001b[0m: No module named 'google.colab'"
     ]
    }
   ],
   "source": [
    "from google.colab import files"
   ]
  },
  {
   "cell_type": "code",
   "execution_count": null,
   "id": "40a59bb9",
   "metadata": {},
   "outputs": [],
   "source": []
  }
 ],
 "metadata": {
  "kernelspec": {
   "display_name": "Python 3 (ipykernel)",
   "language": "python",
   "name": "python3"
  },
  "language_info": {
   "codemirror_mode": {
    "name": "ipython",
    "version": 3
   },
   "file_extension": ".py",
   "mimetype": "text/x-python",
   "name": "python",
   "nbconvert_exporter": "python",
   "pygments_lexer": "ipython3",
   "version": "3.11.5"
  }
 },
 "nbformat": 4,
 "nbformat_minor": 5
}
